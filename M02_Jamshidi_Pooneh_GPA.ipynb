{
 "cells": [
  {
   "cell_type": "code",
   "execution_count": null,
   "id": "926d7aca",
   "metadata": {},
   "outputs": [
    {
     "name": "stdout",
     "output_type": "stream",
     "text": [
      "Enter student's last name (or 'ZZZ' to quit): Cobin\n",
      "Enter student's first name: Max\n",
      "Enter student's GPA: 3.5\n",
      "Max Cobin made the Dean's List!\n",
      "Enter student's last name (or 'ZZZ' to quit): Amini\n",
      "Enter student's first name: Maz\n",
      "Enter student's GPA: 3.2\n",
      "Enter student's last name (or 'ZZZ' to quit): Shaki\n",
      "Enter student's first name: Micheal\n",
      "Enter student's GPA: 3.3\n",
      "Micheal Shaki made the Honor Roll!\n",
      "Enter student's last name (or 'ZZZ' to quit): Aria\n",
      "Enter student's first name: Al\n",
      "Enter student's GPA: 3.2\n",
      "Enter student's last name (or 'ZZZ' to quit): Burn\n",
      "Enter student's first name: Laila\n",
      "Enter student's GPA: 3.4\n",
      "Laila Burn made the Honor Roll!\n",
      "Enter student's last name (or 'ZZZ' to quit): 'ZZZ'\n"
     ]
    }
   ],
   "source": [
    "# Author: [Your Name]\n",
    "# File Name: student_gpa_app.py\n",
    "# Description: This app accepts student names and GPAs and tests if the student qualifies for either the Dean's List or the Honor Roll.\n",
    "\n",
    "while True:\n",
    "    # Accept student's last name and check if it is 'ZZZ'\n",
    "    last_name = input(\"Enter student's last name (or 'ZZZ' to quit): \")\n",
    "    if last_name == 'ZZZ':\n",
    "        break\n",
    "\n",
    "    # Accept student's first name and GPA\n",
    "    first_name = input(\"Enter student's first name: \")\n",
    "    gpa = float(input(\"Enter student's GPA: \"))\n",
    "\n",
    "    # Test if the student qualifies for the Dean's List or the Honor Roll\n",
    "    if gpa >= 3.5:\n",
    "        print(f\"{first_name} {last_name} made the Dean's List!\")\n",
    "    elif gpa >= 3.25:\n",
    "        print(f\"{first_name} {last_name} made the Honor Roll!\")"
   ]
  },
  {
   "cell_type": "code",
   "execution_count": null,
   "id": "17d9718a",
   "metadata": {},
   "outputs": [],
   "source": []
  }
 ],
 "metadata": {
  "kernelspec": {
   "display_name": "Python 3 (ipykernel)",
   "language": "python",
   "name": "python3"
  },
  "language_info": {
   "codemirror_mode": {
    "name": "ipython",
    "version": 3
   },
   "file_extension": ".py",
   "mimetype": "text/x-python",
   "name": "python",
   "nbconvert_exporter": "python",
   "pygments_lexer": "ipython3",
   "version": "3.10.9"
  }
 },
 "nbformat": 4,
 "nbformat_minor": 5
}
