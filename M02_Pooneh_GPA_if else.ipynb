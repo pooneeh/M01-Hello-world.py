{
 "cells": [
  {
   "cell_type": "code",
   "execution_count": null,
   "id": "94c16e90",
   "metadata": {},
   "outputs": [
    {
     "name": "stdout",
     "output_type": "stream",
     "text": [
      "Enter student's last name (or 'ZZZ' to quit): Maki\n",
      "Enter student's first name: Micheal\n",
      "Enter student's GPA: 3.5\n",
      "Micheal Maki made the Dean's List!\n",
      "Enter student's last name (or 'ZZZ' to quit): Shak\n",
      "Enter student's first name: Daniell\n",
      "Enter student's GPA: 3.25\n",
      "Daniell Shak made the Honor Roll!\n",
      "Enter student's last name (or 'ZZZ' to quit): James\n",
      "Enter student's first name: Laura\n",
      "Enter student's GPA: 3.2\n",
      "Enter student's last name (or 'ZZZ' to quit): Salvodor\n",
      "Enter student's first name: Selena\n",
      "Enter student's GPA: 3.2\n",
      "Enter student's last name (or 'ZZZ' to quit): Marion\n",
      "Enter student's first name: John\n",
      "Enter student's GPA: 3.2\n"
     ]
    }
   ],
   "source": [
    "\"\"\"\n",
    "#Pooneeh\n",
    "SDEV 220\n",
    "M02\n",
    "\"\"\"\n",
    "#File Name: student_gpa_app.py\n",
    "#Write a Python app that will accepts student names and GPAs and tests if the student qualifies for either the Dean's List or the Honor Roll.\n",
    "\n",
    "while True:\n",
    "    # Accept student's last name and check if it is 'ZZZ'\n",
    "    last_name = input(\"Enter student's last name (or 'ZZZ' to quit): \")\n",
    "    if last_name == 'ZZZ':\n",
    "        break\n",
    "\n",
    "    # Accept student's first name and GPA\n",
    "    first_name = input(\"Enter student's first name: \")\n",
    "    gpa = float(input(\"Enter student's GPA: \"))\n",
    "\n",
    "    # Test if the student qualifies for the Dean's List or the Honor Roll\n",
    "    if gpa >= 3.5:\n",
    "        print(f\"{first_name} {last_name} made the Dean's List!\")\n",
    "    elif gpa >= 3.25:\n",
    "        print(f\"{first_name} {last_name} made the Honor Roll!\")\n"
   ]
  },
  {
   "cell_type": "code",
   "execution_count": null,
   "id": "c7dfc034",
   "metadata": {},
   "outputs": [],
   "source": []
  },
  {
   "cell_type": "code",
   "execution_count": null,
   "id": "3165295b",
   "metadata": {},
   "outputs": [],
   "source": []
  }
 ],
 "metadata": {
  "kernelspec": {
   "display_name": "Python 3 (ipykernel)",
   "language": "python",
   "name": "python3"
  },
  "language_info": {
   "codemirror_mode": {
    "name": "ipython",
    "version": 3
   },
   "file_extension": ".py",
   "mimetype": "text/x-python",
   "name": "python",
   "nbconvert_exporter": "python",
   "pygments_lexer": "ipython3",
   "version": "3.10.9"
  }
 },
 "nbformat": 4,
 "nbformat_minor": 5
}
