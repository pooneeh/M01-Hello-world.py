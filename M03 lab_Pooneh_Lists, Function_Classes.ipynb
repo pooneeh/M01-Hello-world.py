{
 "cells": [
  {
   "cell_type": "code",
   "execution_count": 1,
   "id": "2e0e8cab",
   "metadata": {},
   "outputs": [
    {
     "name": "stdout",
     "output_type": "stream",
     "text": [
      "Enter the year of the car: 2022\n",
      "Enter the make of the car: Toyota\n",
      "Enter the model of the car: Corolla\n",
      "Enter the number of doors (2 or 4): 4\n",
      "Enter the type of roof (solid or sun roof): sun roof\n",
      "Vehicle type: car\n",
      "Year: 2022\n",
      "Make: Toyota\n",
      "Model: Corolla\n",
      "Number of doors: 4\n",
      "Type of roof: sun roof\n"
     ]
    }
   ],
   "source": [
    "\"\"\"\n",
    "#Pooneh\n",
    "SDEV 220\n",
    "M03\n",
    "\"\"\"\n",
    "\n",
    "#Write a Python app\n",
    "\n",
    "\n",
    "class Vehicle:\n",
    "    def __init__(self, vehicle_type):\n",
    "        self.vehicle_type = vehicle_type\n",
    "        \n",
    "class Automobile(Vehicle):\n",
    "    def __init__(self, vehicle_type, year, make, model, doors, roof):\n",
    "        super().__init__(vehicle_type)\n",
    "        self.year = year\n",
    "        self.make = make\n",
    "        self.model = model\n",
    "        self.doors = doors\n",
    "        self.roof = roof\n",
    "        \n",
    "    def __str__(self):\n",
    "         return f\"Vehicle type: {self.vehicle_type}\\n\"\\\n",
    "          f\"Year: {self.year}\\n\"\\\n",
    "          f\"Make: {self.make}\\n\"\\\n",
    "          f\"Model: {self.model}\\n\"\\\n",
    "          f\"Number of doors: {self.doors}\\n\"\\\n",
    "          f\"Type of roof: {self.roof}\"\n",
    "        \n",
    "\n",
    "vehicle_type = \"car\"\n",
    "year = input(\"Enter the year of the car: \")\n",
    "make = input(\"Enter the make of the car: \")\n",
    "model = input(\"Enter the model of the car: \")\n",
    "doors = input(\"Enter the number of doors (2 or 4): \")\n",
    "roof = input(\"Enter the type of roof (solid or sun roof): \")\n",
    "\n",
    "car = Automobile(vehicle_type, year, make, model, doors, roof)\n",
    "print(car)"
   ]
  },
  {
   "cell_type": "code",
   "execution_count": null,
   "id": "2954f136",
   "metadata": {},
   "outputs": [],
   "source": []
  }
 ],
 "metadata": {
  "kernelspec": {
   "display_name": "Python 3 (ipykernel)",
   "language": "python",
   "name": "python3"
  },
  "language_info": {
   "codemirror_mode": {
    "name": "ipython",
    "version": 3
   },
   "file_extension": ".py",
   "mimetype": "text/x-python",
   "name": "python",
   "nbconvert_exporter": "python",
   "pygments_lexer": "ipython3",
   "version": "3.10.9"
  }
 },
 "nbformat": 4,
 "nbformat_minor": 5
}
