{
 "cells": [
  {
   "cell_type": "code",
   "execution_count": 3,
   "id": "eb27ce09",
   "metadata": {},
   "outputs": [
    {
     "data": {
      "text/plain": [
       "'\\nPooneh\\nSDEV 220\\nM03\\n'"
      ]
     },
     "execution_count": 3,
     "metadata": {},
     "output_type": "execute_result"
    }
   ],
   "source": [
    "\"\"\"\n",
    "Pooneh\n",
    "SDEV 220\n",
    "M03\n",
    "\"\"\"\n",
    "\n",
    "#Write a Python that has the following classes:\n"
   ]
  },
  {
   "cell_type": "code",
   "execution_count": 1,
   "id": "feb26d8c",
   "metadata": {},
   "outputs": [],
   "source": [
    "#A super class called Vehicle\n",
    "class Vehicle:\n",
    "    def __init__(self, car, truck, plane, boat, broomstick):\n",
    "        self.c=car\n",
    "        self.t=truck\n",
    "        self.p=plane\n",
    "        self.b=boat\n",
    "        self.br=broomstick\n",
    "    "
   ]
  },
  {
   "cell_type": "code",
   "execution_count": 6,
   "id": "2a386a64",
   "metadata": {},
   "outputs": [],
   "source": [
    "#A class called Automobile\n",
    "class Automobile(Vehicle):\n",
    "    def __init__(self,c,t,p,b,br,year,make,model,doors,roof):\n",
    "        super().__init__(c,t,p,b,br)\n",
    "        self.year=year\n",
    "        self.make=make\n",
    "        self.model=model\n",
    "        self.doors=doors\n",
    "        self.roof=roof\n",
    "    def printVehicle(self):\n",
    "        print(\"vehicle type\")\n",
    "              \n"
   ]
  },
  {
   "cell_type": "code",
   "execution_count": null,
   "id": "822026a0",
   "metadata": {},
   "outputs": [],
   "source": []
  }
 ],
 "metadata": {
  "kernelspec": {
   "display_name": "Python 3 (ipykernel)",
   "language": "python",
   "name": "python3"
  },
  "language_info": {
   "codemirror_mode": {
    "name": "ipython",
    "version": 3
   },
   "file_extension": ".py",
   "mimetype": "text/x-python",
   "name": "python",
   "nbconvert_exporter": "python",
   "pygments_lexer": "ipython3",
   "version": "3.10.9"
  }
 },
 "nbformat": 4,
 "nbformat_minor": 5
}
