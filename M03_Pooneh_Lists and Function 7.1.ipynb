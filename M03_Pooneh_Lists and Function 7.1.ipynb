{
 "cells": [
  {
   "cell_type": "code",
   "execution_count": 13,
   "id": "0803ee88",
   "metadata": {},
   "outputs": [],
   "source": [
    "\"\"\"\n",
    "#Pooneh\n",
    "SDEV 220\n",
    "M03 ch7\n",
    "\"\"\"\n",
    "#7.1 Create a list called years_list\n",
    "\n",
    "years_list = [1980, 1981, 1982, 1983, 1984, 1985]\n"
   ]
  },
  {
   "cell_type": "code",
   "execution_count": 20,
   "id": "149cd949",
   "metadata": {},
   "outputs": [
    {
     "name": "stdout",
     "output_type": "stream",
     "text": [
      "1983\n"
     ]
    }
   ],
   "source": [
    "#7.2 In which year in years_list was your third bithday\n",
    "print(years_list[3])"
   ]
  },
  {
   "cell_type": "code",
   "execution_count": 21,
   "id": "c94f21b3",
   "metadata": {},
   "outputs": [
    {
     "name": "stdout",
     "output_type": "stream",
     "text": [
      "1985\n"
     ]
    }
   ],
   "source": [
    "#7.3 In which year in years_list were you the oldest?\n",
    "print(years_list[-1])\n"
   ]
  },
  {
   "cell_type": "code",
   "execution_count": 29,
   "id": "1bb7c4bf",
   "metadata": {},
   "outputs": [
    {
     "name": "stdout",
     "output_type": "stream",
     "text": [
      "['mozzarella', 'cinderella', 'salmonella']\n"
     ]
    }
   ],
   "source": [
    "#7.4 Make a list called things with thesse three strings as elements: \"mozzarella\", \"cinderella\", \"salmonella\".\n",
    "things=['mozzarella', \"cinderella\", \"salmonella\"]\n",
    "print(things)"
   ]
  },
  {
   "cell_type": "code",
   "execution_count": 37,
   "id": "b77ea5a9",
   "metadata": {},
   "outputs": [
    {
     "name": "stdout",
     "output_type": "stream",
     "text": [
      "['mozzarella', 'Cinderella', 'salmonella']\n"
     ]
    }
   ],
   "source": [
    "#7.5 Capitalize the element in things that refers to a person\n",
    "things[1]=\"Cinderella\" \n",
    "print(things)"
   ]
  },
  {
   "cell_type": "code",
   "execution_count": 38,
   "id": "d6ae231b",
   "metadata": {},
   "outputs": [
    {
     "name": "stdout",
     "output_type": "stream",
     "text": [
      "['MOZZARELLA', 'Cinderella', 'salmonella']\n"
     ]
    }
   ],
   "source": [
    "#7.6 Make the cheesy element of things all uppercase\n",
    "things[0] = things[0].upper()\n",
    "print(things)"
   ]
  },
  {
   "cell_type": "code",
   "execution_count": 40,
   "id": "f2b18887",
   "metadata": {},
   "outputs": [
    {
     "name": "stdout",
     "output_type": "stream",
     "text": [
      "['MOZZARELLA', 'Cinderella']\n"
     ]
    }
   ],
   "source": [
    "#7.7 Delete the disease element from things\n",
    "things.remove(\"salmonella\")\n",
    "print(things)"
   ]
  },
  {
   "cell_type": "code",
   "execution_count": 51,
   "id": "1f821435",
   "metadata": {},
   "outputs": [],
   "source": [
    "#7.8 Create a list called surprise with the elements\"Groucho\", \"Chico\",and \"Harpo\"\n",
    "surprise = ['Groucho', 'Chico', 'Harpo']\n",
    "\n"
   ]
  },
  {
   "cell_type": "code",
   "execution_count": 57,
   "id": "6ed3be60",
   "metadata": {},
   "outputs": [
    {
     "name": "stdout",
     "output_type": "stream",
     "text": [
      "['Groucho', 'Chico', 'Oprah']\n"
     ]
    }
   ],
   "source": [
    "#7.9 Lowercase the last element of the surprise list, reverse it, and then capitalize\n",
    "surprise[-1] = surprise[-1].lower()[::-1].capitalize()\n",
    "print(surprise)"
   ]
  },
  {
   "cell_type": "code",
   "execution_count": 58,
   "id": "871e6414",
   "metadata": {},
   "outputs": [
    {
     "name": "stdout",
     "output_type": "stream",
     "text": [
      "[0, 2, 4, 6, 8]\n"
     ]
    }
   ],
   "source": [
    "#7.10 Use a list comprhension to make a list called even\n",
    "even = [num for num in range(10) if num % 2 == 0]\n",
    "print(even)"
   ]
  },
  {
   "cell_type": "code",
   "execution_count": 63,
   "id": "c3839628",
   "metadata": {},
   "outputs": [
    {
     "name": "stdout",
     "output_type": "stream",
     "text": [
      "Fee! Fie! Foe! Flop!\n",
      "Someone betterget a mop.\n",
      "Fee! Fie! Foe! Fope!\n",
      "Someone betterturn the rope.\n",
      "Fee! Fie! Foe! Fa!\n",
      "Someone betterget your ma.\n",
      "Fee! Fie! Foe! Fudge!\n",
      "Someone bettercall the judge.\n",
      "Fee! Fie! Foe! Fat!\n",
      "Someone betterpet the cat.\n",
      "Fee! Fie! Foe! Fog!\n",
      "Someone betterwalk the dog.\n",
      "Fee! Fie! Foe! Fun!\n",
      "Someone bettersay we're done.\n"
     ]
    }
   ],
   "source": [
    "#7.11 Let's create a jump rope rhyme maker.\n",
    "start1 = [\"fee\", \"fie\", \"foe\"]\n",
    "rhymes = [\n",
    "    (\"flop\", \"get a mop\"),\n",
    "    (\"fope\", \"turn the rope\"),\n",
    "    (\"fa\", \"get your ma\"),\n",
    "    (\"fudge\", \"call the judge\"),\n",
    "    (\"fat\", \"pet the cat\"),\n",
    "    (\"fog\", \"walk the dog\"),\n",
    "    (\"fun\", \"say we're done\"),\n",
    "]\n",
    "start2 = \"Someone better\"\n",
    "for first, second in rhymes:\n",
    "    for word in start1:\n",
    "        print(word.capitalize() + \"!\", end=\" \")\n",
    "    print(first.capitalize() + \"!\")\n",
    "    print(start2 + \"\" + second + \".\")"
   ]
  },
  {
   "cell_type": "code",
   "execution_count": null,
   "id": "c3690107",
   "metadata": {},
   "outputs": [],
   "source": []
  }
 ],
 "metadata": {
  "kernelspec": {
   "display_name": "Python 3 (ipykernel)",
   "language": "python",
   "name": "python3"
  },
  "language_info": {
   "codemirror_mode": {
    "name": "ipython",
    "version": 3
   },
   "file_extension": ".py",
   "mimetype": "text/x-python",
   "name": "python",
   "nbconvert_exporter": "python",
   "pygments_lexer": "ipython3",
   "version": "3.10.9"
  }
 },
 "nbformat": 4,
 "nbformat_minor": 5
}
